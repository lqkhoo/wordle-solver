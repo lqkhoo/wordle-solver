{
 "cells": [
  {
   "cell_type": "raw",
   "id": "c60d050c",
   "metadata": {},
   "source": [
    "lqkhoo 2022. For personal use."
   ]
  },
  {
   "cell_type": "markdown",
   "id": "e698f35f",
   "metadata": {},
   "source": [
    "# Wordle\n",
    "\n",
    "### Abstract\n",
    "\n",
    "Wordle is an imperfect information codeword completion game which is closely related to mastermind. This notebook is created to explore the implementation of an automated solver for wordle. I will assume familiarity with both games, and this notebook will refer to results and explanations in the mastermind notebook.\n",
    "\n",
    "The main differences between Wordle and mastermind are:\n",
    "\n",
    "1. The response message. In mastermind, the response message is a 2-tuple (n_exact_matches, n_color_matches) encoding how many, but not which, symbols are correct. In Wordle, the response does tell the codebreaker which of the symbols are correct, hence the response message in a wordle could be represented as a vector.\n",
    "1. The initial codeword pool. In mastermind, the codeword pool is the space of all possible codewords. Where the number of symbols is $S$, and the codeword length is $L$, the initial pool size is $S^L$. For classic mastermind, also called MM(4,6) in the literature, $S=6$, $L=4$, and $S^L=1296$. In Wordle, although $S=26$ and $L=5$, the size of the initial pool is much smaller than $26^5\\approx 1.188\\times 10^7$ because we're limited to a small subset of valid words in English.\n",
    "\n",
    "Unlike the mastermind jupyter notebook, I'll be writing most of the source code for the Wordle solver in python files as opposed to being within this notebook, so the code is better structured."
   ]
  },
  {
   "cell_type": "markdown",
   "id": "3378e687",
   "metadata": {},
   "source": [
    "### The wordlist\n",
    "\n",
    "Wordle's original wordlist is easily extracted from the minified javascript source, which is available via the Internet Archive.\n",
    "\n",
    "From the [archived source](https://web.archive.org/web/20220210031511id_/https://www.powerlanguage.co.uk/wordle/), locate `main.e65ce0a5.js`. Locate the two minified variables called `La` and `Ta`. It's easier if we unminify the source first but these variables are obvious because they're just long lists of strings. `La` contains a list of more common words, which I believe consist of words which could be solutions. `Ta` contains a list of less common words which are nontheless accepted as valid attempts, but would never be the solution to a puzzle. Any other codeword, when entered, would prompt an invalid codeword message, but would not consume a try nor elicit any kind of response. The goal is to guess correctly within 5 tries.\n",
    "\n",
    "In this notebook, I'll call codewords which are potential solutions \"candidates\". The union of all codewords under both `La` and `Ta` variables is simply called the \"pool\" of codewords. I've extracted the codewords under `La` and `Ta` to `data/original_candidates.txt` and `data/original_valid.txt` respectively.\n",
    "\n",
    "For the solver to operate efficiently, we enumerate the entire symbol list as well as the response vector with integers."
   ]
  },
  {
   "cell_type": "code",
   "execution_count": 1,
   "id": "72f0f7ce",
   "metadata": {},
   "outputs": [],
   "source": [
    "# NOTEBOOK DIRECTIVES\n",
    "# Setup autoreload\n",
    "%load_ext autoreload\n",
    "%autoreload 2\n",
    "\n",
    "# Setup matplotlib\n",
    "%matplotlib inline"
   ]
  },
  {
   "cell_type": "code",
   "execution_count": 25,
   "id": "62e10f99",
   "metadata": {},
   "outputs": [],
   "source": [
    "# IMPORTS\n",
    "import cupy as cp\n",
    "import numpy as np\n",
    "import matplotlib\n",
    "import matplotlib.pyplot as plt\n",
    "import subprocess\n",
    "\n",
    "from wordlist import ( WordleWordlistOriginal )\n",
    "from solver import ( WordleSolver, WordleMinimaxSolver )"
   ]
  },
  {
   "cell_type": "code",
   "execution_count": 27,
   "id": "ec54f95f",
   "metadata": {},
   "outputs": [
    {
     "name": "stdout",
     "output_type": "stream",
     "text": [
      "WordleWordlistOriginal(n_syms=26, length=5, n_candidates=2315, n_valid=10657)\n"
     ]
    }
   ],
   "source": [
    "# Load wordlist\n",
    "wordlist = WordleWordlistOriginal()\n",
    "print(wordlist)"
   ]
  },
  {
   "cell_type": "markdown",
   "id": "f1c4f7c7",
   "metadata": {},
   "source": [
    "## Data exploration\n",
    "\n",
    "### Distribution of symbols in solution codewords\n",
    "\n",
    "Okay, let's start by exploring the data. To begin with, what is the global distribution of letters in the words which are potentially solutions?"
   ]
  },
  {
   "cell_type": "code",
   "execution_count": 28,
   "id": "642a8a38",
   "metadata": {},
   "outputs": [
    {
     "data": {
      "image/png": "[encoded data removed]",
      "text/plain": [
       "<Figure size 432x288 with 1 Axes>"
      ]
     },
     "metadata": {
      "needs_background": "light"
     },
     "output_type": "display_data"
    }
   ],
   "source": [
    "dist_sol_global = wordlist.get_symbol_counts_global(wordlist.candidates)\n",
    "bar = plt.bar(np.arange(len(wordlist.symbols)), dist_sol_global, facecolor='g', tick_label=wordlist.symbols)\n",
    "plt.grid(which='major', axis='y')\n",
    "plt.show()"
   ]
  },
  {
   "cell_type": "markdown",
   "id": "12d49854",
   "metadata": {},
   "source": [
    "And what about the symbol distribution at each position of the codeword? This will be the key to finding an efficient partitioning of the solution space."
   ]
  },
  {
   "cell_type": "code",
   "execution_count": 29,
   "id": "6d66eded",
   "metadata": {},
   "outputs": [
    {
     "data": {
      "image/png": "[encoded data removed]",
      "text/plain": [
       "<Figure size 1152x360 with 5 Axes>"
      ]
     },
     "metadata": {
      "needs_background": "light"
     },
     "output_type": "display_data"
    }
   ],
   "source": [
    "dist_sol_pos = wordlist.get_symbol_counts_by_position(wordlist.candidates)\n",
    "fig, axs = plt.subplots(1,5, figsize=(16,5))\n",
    "for i in range(5):\n",
    "    axs[i].barh(np.arange(len(wordlist.symbols)), dist_sol_pos[i], facecolor='g', tick_label=wordlist.symbols)\n",
    "    axs[i].grid(which='major', axis='x')\n",
    "    axs[i].invert_yaxis()\n",
    "plt.show()"
   ]
  },
  {
   "cell_type": "markdown",
   "id": "5632ca68",
   "metadata": {},
   "source": [
    "### CUDA\n",
    "\n",
    "Brute-forcing Wordle using Minimax requires big matrix operations e.g. tensors of shape (10k, 2k, 5). Although I've written the code to be CPU/GPU-agnostic, for performance reasons (about 2 orders of magnitude faster) we'll want to be using a CUDA-compatible GPU when running this notebook. Our main concern when working with giant matrices is available GPU memory. If we hit this limit, we'll have to batch the data and reassemble the matrices, which adds to complexity and detracts from the purpose of this notebook.\n",
    "\n",
    "This notebook is written to run on a single GeForce GTX1080 GPU. If for any reason a cell terminates prematurely, e.g. out of memory to allocate, some or all of the allocated GPU memory may not be freed. This is expected behavior as CuPy caches the memory (see [here](https://docs.cupy.dev/en/latest/user_guide/memory.html)). Calling `cupy.get_default_memory_pool().free_all_blocks()` would free all such memory. The alternative would be to shut down the kernel of this notebook. If you're new to Jupyter, you can do this from the bar at the top: Kernel --> Shutdown. With CUDA properly installed, we can check used / available GPU memory by running `nvidia-smi` from the terminal. If some subsequent cell (or some other process) is having trouble allocating device memory or is running slower than expected, it may be a good idea to check."
   ]
  },
  {
   "cell_type": "code",
   "execution_count": 45,
   "id": "b8ac8112",
   "metadata": {},
   "outputs": [],
   "source": [
    "# Run to free all cached GPU memory\n",
    "cp.get_default_memory_pool().free_all_blocks()"
   ]
  },
  {
   "cell_type": "code",
   "execution_count": 46,
   "id": "1da8072a",
   "metadata": {
    "scrolled": true
   },
   "outputs": [
    {
     "name": "stdout",
     "output_type": "stream",
     "text": [
      "1\n"
     ]
    },
    {
     "data": {
      "text/plain": [
       "{'name': b'NVIDIA GeForce GTX 1080',\n",
       " 'totalGlobalMem': 8589737984,\n",
       " 'sharedMemPerBlock': 49152,\n",
       " 'regsPerBlock': 65536,\n",
       " 'warpSize': 32,\n",
       " 'maxThreadsPerBlock': 1024,\n",
       " 'maxThreadsDim': (1024, 1024, 64),\n",
       " 'maxGridSize': (2147483647, 65535, 65535),\n",
       " 'clockRate': 1847000,\n",
       " 'totalConstMem': 65536,\n",
       " 'major': 6,\n",
       " 'minor': 1,\n",
       " 'textureAlignment': 512,\n",
       " 'texturePitchAlignment': 32,\n",
       " 'multiProcessorCount': 20,\n",
       " 'kernelExecTimeoutEnabled': 1,\n",
       " 'integrated': 0,\n",
       " 'canMapHostMemory': 1,\n",
       " 'computeMode': 0,\n",
       " 'maxTexture1D': 131072,\n",
       " 'maxTexture2D': (131072, 65536),\n",
       " 'maxTexture3D': (16384, 16384, 16384),\n",
       " 'concurrentKernels': 1,\n",
       " 'ECCEnabled': 0,\n",
       " 'pciBusID': 1,\n",
       " 'pciDeviceID': 0,\n",
       " 'pciDomainID': 0,\n",
       " 'tccDriver': 0,\n",
       " 'memoryClockRate': 5005000,\n",
       " 'memoryBusWidth': 256,\n",
       " 'l2CacheSize': 2097152,\n",
       " 'maxThreadsPerMultiProcessor': 2048,\n",
       " 'isMultiGpuBoard': 0,\n",
       " 'cooperativeLaunch': 1,\n",
       " 'cooperativeMultiDeviceLaunch': 0,\n",
       " 'deviceOverlap': 1,\n",
       " 'maxTexture1DMipmap': 16384,\n",
       " 'maxTexture1DLinear': 268435456,\n",
       " 'maxTexture1DLayered': (32768, 2048),\n",
       " 'maxTexture2DMipmap': (32768, 32768),\n",
       " 'maxTexture2DLinear': (131072, 65000, 2097120),\n",
       " 'maxTexture2DLayered': (32768, 32768, 2048),\n",
       " 'maxTexture2DGather': (32768, 32768),\n",
       " 'maxTexture3DAlt': (8192, 8192, 32768),\n",
       " 'maxTextureCubemap': 32768,\n",
       " 'maxTextureCubemapLayered': (32768, 2046),\n",
       " 'maxSurface1D': 32768,\n",
       " 'maxSurface1DLayered': (32768, 2048),\n",
       " 'maxSurface2D': (131072, 65536),\n",
       " 'maxSurface2DLayered': (32768, 32768, 2048),\n",
       " 'maxSurface3D': (16384, 16384, 16384),\n",
       " 'maxSurfaceCubemap': 32768,\n",
       " 'maxSurfaceCubemapLayered': (32768, 2046),\n",
       " 'surfaceAlignment': 512,\n",
       " 'asyncEngineCount': 1,\n",
       " 'unifiedAddressing': 1,\n",
       " 'streamPrioritiesSupported': 1,\n",
       " 'globalL1CacheSupported': 1,\n",
       " 'localL1CacheSupported': 1,\n",
       " 'sharedMemPerMultiprocessor': 98304,\n",
       " 'regsPerMultiprocessor': 65536,\n",
       " 'managedMemory': 1,\n",
       " 'multiGpuBoardGroupID': 0,\n",
       " 'hostNativeAtomicSupported': 0,\n",
       " 'singleToDoublePrecisionPerfRatio': 32,\n",
       " 'pageableMemoryAccess': 0,\n",
       " 'concurrentManagedAccess': 0,\n",
       " 'computePreemptionSupported': 1,\n",
       " 'canUseHostPointerForRegisteredMem': 0,\n",
       " 'sharedMemPerBlockOptin': 49152,\n",
       " 'pageableMemoryAccessUsesHostPageTables': 0,\n",
       " 'directManagedMemAccessFromHost': 0,\n",
       " 'uuid': b'\\xfcv\\xfc\\x14V\\xa3\\x16liM\\x03\\x01 H0\\xc4\\xf3V\\x01',\n",
       " 'luid': b'\\xf3V\\x01',\n",
       " 'luidDeviceNodeMask': 1}"
      ]
     },
     "execution_count": 46,
     "metadata": {},
     "output_type": "execute_result"
    }
   ],
   "source": [
    "# Check that CUDA is properly set up and that the GPU is accessible.\n",
    "print(cp.cuda.runtime.getDeviceCount())\n",
    "cp.cuda.runtime.getDeviceProperties(0)"
   ]
  },
  {
   "cell_type": "markdown",
   "id": "6f8f4a9d",
   "metadata": {},
   "source": [
    "### Minimax algorithm. Single-step lookahead (greedy)\n",
    "\n",
    "So, let's apply the minimax algorithm which Knuth demonstrated as a solution for MM(4,6) mastermind, to solve Wordle. Recall that in Minimax, we take the guess whose largest set partition is smallest (among all the guesses).\n",
    "\n",
    "We do need to modify our mastermind implementation, because in Wordle, the set of codewords which are candidate solutions, is distinct from the set of all other valid words. Observe that this could be simply viewed as an artificial partitioning of the initial pool into a smaller set of candidate codewords.\n",
    "\n",
    "We will also make one more modification. Recall that at the end of the mastermind notebook, we noted the known result, that guessing only within the set of candidate codewords is suboptimal. Since we have to maintain two sets of codewords in Wordle anyway (one to guess with, one to partition down to the solution), our Wordle minimax algorithm will be free to choose any word in the pool i.e. candidates $\\cup$ valid at any time step."
   ]
  },
  {
   "cell_type": "code",
   "execution_count": 32,
   "id": "0c09d493",
   "metadata": {},
   "outputs": [
    {
     "name": "stdout",
     "output_type": "stream",
     "text": [
      "WordleMinimaxSolver(n_candidates=2315, n_valid=10657)\n"
     ]
    }
   ],
   "source": [
    "solver = WordleMinimaxSolver(wordlist)\n",
    "print(solver)"
   ]
  },
  {
   "cell_type": "code",
   "execution_count": 41,
   "id": "3bc29b3a",
   "metadata": {},
   "outputs": [
    {
     "name": "stdout",
     "output_type": "stream",
     "text": [
      "Guess: 'arise', response: [1 0 0 0 2]\n",
      "Partition: ['badge', 'bathe', 'blade', 'blame', 'blaze', 'cable', 'cache', 'canoe', 'chafe', 'dance', 'eagle', 'elate', 'evade', 'fable', 'flake', 'flame', 'gaffe', 'gauge', 'gauze', 'glade', 'glaze', 'halve', 'haute', 'heave', 'knave', 'ladle', 'lance', 'lathe', 'latte', 'leave', 'mange', 'maple', 'mauve', 'maybe', 'ovate', 'payee', 'peace', 'place', 'plane', 'plate', 'quake', 'table', 'vague', 'value', 'valve', 'weave', 'whale']\n",
      "Guess: 'blaud', response: [0 0 1 1 0]\n",
      "Partition: ['gauge', 'gauze', 'haute', 'mauve']\n",
      "Guess: 'aargh', response: [1 2 0 0 1]\n",
      "Partition: ['haute']\n",
      "Guess: 'haute', response: [2 2 2 2 2]\n",
      "SOLVED after: 4 steps\n"
     ]
    }
   ],
   "source": [
    "answer, nsteps, guesses, messages = solver.solve(\"haute\", max_iters=10)\n",
    "print(f\"SOLVED after: {nsteps} steps\")"
   ]
  },
  {
   "cell_type": "markdown",
   "id": "414e2d11",
   "metadata": {},
   "source": [
    "How about a truth value where the word 'arise' matches nothing initially?"
   ]
  },
  {
   "cell_type": "code",
   "execution_count": 42,
   "id": "7aea1b8f",
   "metadata": {},
   "outputs": [
    {
     "name": "stdout",
     "output_type": "stream",
     "text": [
      "Guess: 'arise', response: [0 0 0 0 0]\n",
      "Partition: ['block', 'blond', 'blood', 'bloom', 'blown', 'bluff', 'blunt', 'bobby', 'bongo', 'booby', 'booth', 'booty', 'boozy', 'botch', 'bough', 'bound', 'buddy', 'buggy', 'bulky', 'bully', 'bunch', 'bunny', 'butch', 'buxom', 'chock', 'chuck', 'chump', 'chunk', 'clock', 'cloth', 'cloud', 'clout', 'clown', 'cluck', 'clump', 'clung', 'colon', 'comfy', 'conch', 'condo', 'couch', 'cough', 'could', 'count', 'coyly', 'dodgy', 'dolly', 'donut', 'doubt', 'dough', 'dowdy', 'downy', 'duchy', 'dully', 'dummy', 'dumpy', 'dutch', 'flock', 'flood', 'flout', 'flown', 'fluff', 'flung', 'flunk', 'foggy', 'folly', 'found', 'fully', 'funky', 'funny', 'fuzzy', 'ghoul', 'gloom', 'glyph', 'godly', 'golly', 'goody', 'goofy', 'gulch', 'gully', 'gumbo', 'gummy', 'guppy', 'hobby', 'holly', 'hotly', 'hound', 'howdy', 'humph', 'hunch', 'hunky', 'hutch', 'jolly', 'jumbo', 'jumpy', 'junto', 'knock', 'knoll', 'known', 'lobby', 'lofty', 'loopy', 'lowly', 'lucky', 'lumpy', 'lunch', 'lymph', 'lynch', 'mogul', 'moldy', 'month', 'moody', 'motto', 'moult', 'mound', 'mount', 'mouth', 'mucky', 'muddy', 'mulch', 'mummy', 'munch', 'nobly', 'notch', 'nutty', 'nylon', 'nymph', 'oddly', 'ought', 'outdo', 'outgo', 'phony', 'photo', 'pluck', 'plumb', 'plump', 'plunk', 'polyp', 'pooch', 'poppy', 'pouch', 'pound', 'pouty', 'pudgy', 'puffy', 'pulpy', 'punch', 'puppy', 'putty', 'pygmy', 'quoth', 'thong', 'thumb', 'thump', 'toddy', 'tooth', 'touch', 'tough', 'uncut', 'vouch', 'whoop', 'woody', 'wooly', 'woozy', 'would', 'wound', 'young', 'youth']\n",
      "Guess: 'bludy', response: [0 1 0 0 0]\n",
      "Partition: ['colon', 'knoll']\n",
      "Guess: 'colon', response: [2 2 2 2 2]\n",
      "Partition: ['colon']\n",
      "Guess: 'colon', response: [2 2 2 2 2]\n",
      "SOLVED after: 4 steps\n"
     ]
    }
   ],
   "source": [
    "answer, nsteps, guesses, messages = solver.solve(\"colon\", max_iters=10)\n",
    "print(f\"SOLVED after: {nsteps} steps\")"
   ]
  },
  {
   "cell_type": "markdown",
   "id": "2fc88b3c",
   "metadata": {},
   "source": [
    "Did you notice anything unusual with the solution path above? The same thing happened in the cell below, too. This is mostly to illustrate an edge case when generating the lookup tree (see below). If the algorithm picks a word that's in the solution to partition the solution pool, that pick may actually be the solution itself. In that case, we don't actually need to travel further down the tree to find the solution."
   ]
  },
  {
   "cell_type": "code",
   "execution_count": 43,
   "id": "03f64e05",
   "metadata": {},
   "outputs": [
    {
     "name": "stdout",
     "output_type": "stream",
     "text": [
      "Guess: 'arise', response: [0 0 0 2 0]\n",
      "Partition: ['blush', 'boost', 'bossy', 'floss', 'flush', 'fussy', 'ghost', 'gloss', 'gypsy', 'hussy', 'joust', 'lousy', 'mossy', 'plush', 'shush', 'slosh', 'slush']\n",
      "Guess: 'shlub', response: [1 0 0 0 0]\n",
      "Partition: ['gypsy', 'mossy']\n",
      "Guess: 'gypsy', response: [2 2 2 2 2]\n",
      "Partition: ['gypsy']\n",
      "Guess: 'gypsy', response: [2 2 2 2 2]\n",
      "SOLVED after: 4 steps\n"
     ]
    }
   ],
   "source": [
    "answer, nsteps, guesses, messages = solver.solve(\"gypsy\", max_iters=10)\n",
    "print(f\"SOLVED after: {nsteps} steps\")"
   ]
  },
  {
   "cell_type": "markdown",
   "id": "c533f06d",
   "metadata": {},
   "source": [
    "### Generating the lookup tree\n",
    "\n",
    "Okay! With that in mind, let's generate a lookup tree. Running minimax every time is very wasteful because we're recomputing the partitioning every single time. A better tradeoff would be to generate and then store the full tree that partitions the solution space, and then simply do a lookup without having to do giant matrix operations.\n",
    "\n",
    "What would this tree look like?\n",
    "\n",
    "1. Each node of the tree would have a 2-tuple `(candidates, guess)`. The guess is necessary because of the edge case that we've shown earlier.\n",
    "1. Every node would have a maximum branching factor which equals `n_keys`.\n",
    "\n",
    "We could generate the tree using greedy minimax as it is, for vanilla Wordle. For larger problems e.g. if allow all valid words as candidates, we quickly start running into memory constraints computing minimax, so we need to start looking at graph algorithms. Branch and bound seems like a good option. Branch and bound isn't good for when we have combinatorial explosions (e.g. cutting stock, knapsack) but should work just fine for Wordle."
   ]
  },
  {
   "cell_type": "code",
   "execution_count": 44,
   "id": "2b63ffe9",
   "metadata": {},
   "outputs": [],
   "source": [
    "cp.get_default_memory_pool().free_all_blocks()"
   ]
  }
 ],
 "metadata": {
  "kernelspec": {
   "display_name": "Python (base)",
   "language": "python",
   "name": "base"
  },
  "language_info": {
   "codemirror_mode": {
    "name": "ipython",
    "version": 3
   },
   "file_extension": ".py",
   "mimetype": "text/x-python",
   "name": "python",
   "nbconvert_exporter": "python",
   "pygments_lexer": "ipython3",
   "version": "3.9.7"
  }
 },
 "nbformat": 4,
 "nbformat_minor": 5
}
